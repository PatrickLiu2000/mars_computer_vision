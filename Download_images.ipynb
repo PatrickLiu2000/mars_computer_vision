{
 "cells": [
  {
   "cell_type": "code",
   "execution_count": 5,
   "metadata": {},
   "outputs": [],
   "source": [
    "import urllib.request"
   ]
  },
  {
   "cell_type": "code",
   "execution_count": null,
   "metadata": {},
   "outputs": [],
   "source": [
    "# N-30\n",
    "for i in range(90, 331, 30):\n",
    "    urllib.request.urlretrieve(\"http://www.mars.asu.edu/data/thm_dir/large/thm_dir_N-30_{}.png\".format(str(i).zfill(3)), \n",
    "                       \"./assets/thm_dir_N-30_{}.jpg\".format(str(i).zfill(3)))"
   ]
  },
  {
   "cell_type": "code",
   "execution_count": null,
   "metadata": {},
   "outputs": [],
   "source": [
    "# N-60\n",
    "for i in range(0, 331, 30):\n",
    "    urllib.request.urlretrieve(\"http://www.mars.asu.edu/data/thm_dir/large/thm_dir_N-60_{}.png\".format(str(i).zfill(3)), \n",
    "                       \"./assets/thm_dir_N-30_{}.jpg\".format(str(i).zfill(3)))"
   ]
  },
  {
   "cell_type": "code",
   "execution_count": null,
   "metadata": {},
   "outputs": [],
   "source": [
    "# N-90\n",
    "for i in range(0, 331, 30):\n",
    "    urllib.request.urlretrieve(\"http://www.mars.asu.edu/data/thm_dir/large/thm_dir_N-90_{}.png\".format(str(i).zfill(3)), \n",
    "                       \"./assets/thm_dir_N-30_{}.jpg\".format(str(i).zfill(3)))"
   ]
  },
  {
   "cell_type": "code",
   "execution_count": null,
   "metadata": {},
   "outputs": [],
   "source": [
    "# N00\n",
    "for i in range(0, 331, 30):\n",
    "    urllib.request.urlretrieve(\"http://www.mars.asu.edu/data/thm_dir/large/thm_dir_N00_{}.png\".format(str(i).zfill(3)), \n",
    "                       \"./assets/thm_dir_N-30_{}.jpg\".format(str(i).zfill(3)))"
   ]
  },
  {
   "cell_type": "code",
   "execution_count": null,
   "metadata": {},
   "outputs": [],
   "source": [
    "# N30\n",
    "for i in range(0, 331, 30):\n",
    "    urllib.request.urlretrieve(\"http://www.mars.asu.edu/data/thm_dir/large/thm_dir_N30_{}.png\".format(str(i).zfill(3)), \n",
    "                       \"./assets/thm_dir_N-30_{}.jpg\".format(str(i).zfill(3)))"
   ]
  },
  {
   "cell_type": "code",
   "execution_count": null,
   "metadata": {},
   "outputs": [],
   "source": [
    "# N60\n",
    "for i in range(0, 331, 30):\n",
    "    urllib.request.urlretrieve(\"http://www.mars.asu.edu/data/thm_dir/large/thm_dir_N60_{}.png\".format(str(i).zfill(3)), \n",
    "                       \"./assets/thm_dir_N-30_{}.jpg\".format(str(i).zfill(3)))"
   ]
  }
 ],
 "metadata": {
  "kernelspec": {
   "display_name": "Python 3",
   "language": "python",
   "name": "python3"
  },
  "language_info": {
   "codemirror_mode": {
    "name": "ipython",
    "version": 3
   },
   "file_extension": ".py",
   "mimetype": "text/x-python",
   "name": "python",
   "nbconvert_exporter": "python",
   "pygments_lexer": "ipython3",
   "version": "3.8.2"
  }
 },
 "nbformat": 4,
 "nbformat_minor": 2
}
